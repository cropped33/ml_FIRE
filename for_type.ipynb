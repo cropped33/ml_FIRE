{
 "cells": [
  {
   "cell_type": "code",
   "execution_count": 1,
   "metadata": {},
   "outputs": [],
   "source": [
    "import numpy as np\n",
    "import pandas as pd\n",
    "import matplotlib.pyplot as plt\n",
    "import seaborn as sns"
   ]
  },
  {
   "cell_type": "code",
   "execution_count": 2,
   "metadata": {},
   "outputs": [
    {
     "name": "stderr",
     "output_type": "stream",
     "text": [
      "C:\\Users\\Sulav Bhandari\\AppData\\Local\\Temp\\ipykernel_11976\\3696648438.py:1: DtypeWarning: Columns (9) have mixed types. Specify dtype option on import or set low_memory=False.\n",
      "  data = pd.read_csv('both_combined.csv')\n"
     ]
    }
   ],
   "source": [
    "data = pd.read_csv('both_combined.csv')"
   ]
  },
  {
   "cell_type": "code",
   "execution_count": 3,
   "metadata": {},
   "outputs": [
    {
     "data": {
      "text/plain": [
       "(1592124, 17)"
      ]
     },
     "execution_count": 3,
     "metadata": {},
     "output_type": "execute_result"
    }
   ],
   "source": [
    "data.shape"
   ]
  },
  {
   "cell_type": "code",
   "execution_count": 4,
   "metadata": {},
   "outputs": [],
   "source": [
    "data = data[data['latitude'] >= 26]"
   ]
  },
  {
   "cell_type": "code",
   "execution_count": 5,
   "metadata": {},
   "outputs": [
    {
     "data": {
      "text/plain": [
       "(866554, 17)"
      ]
     },
     "execution_count": 5,
     "metadata": {},
     "output_type": "execute_result"
    }
   ],
   "source": [
    "data.shape"
   ]
  },
  {
   "cell_type": "code",
   "execution_count": 6,
   "metadata": {},
   "outputs": [
    {
     "data": {
      "text/html": [
       "<div>\n",
       "<style scoped>\n",
       "    .dataframe tbody tr th:only-of-type {\n",
       "        vertical-align: middle;\n",
       "    }\n",
       "\n",
       "    .dataframe tbody tr th {\n",
       "        vertical-align: top;\n",
       "    }\n",
       "\n",
       "    .dataframe thead th {\n",
       "        text-align: right;\n",
       "    }\n",
       "</style>\n",
       "<table border=\"1\" class=\"dataframe\">\n",
       "  <thead>\n",
       "    <tr style=\"text-align: right;\">\n",
       "      <th></th>\n",
       "      <th>latitude</th>\n",
       "      <th>longitude</th>\n",
       "      <th>brightness</th>\n",
       "      <th>scan</th>\n",
       "      <th>track</th>\n",
       "      <th>acq_date</th>\n",
       "      <th>acq_time</th>\n",
       "      <th>satellite</th>\n",
       "      <th>instrument</th>\n",
       "      <th>confidence</th>\n",
       "      <th>version</th>\n",
       "      <th>bright_t31</th>\n",
       "      <th>frp</th>\n",
       "      <th>daynight</th>\n",
       "      <th>type</th>\n",
       "      <th>bright_ti4</th>\n",
       "      <th>bright_ti5</th>\n",
       "    </tr>\n",
       "  </thead>\n",
       "  <tbody>\n",
       "    <tr>\n",
       "      <th>0</th>\n",
       "      <td>28.2590</td>\n",
       "      <td>85.1385</td>\n",
       "      <td>319.5</td>\n",
       "      <td>1.0</td>\n",
       "      <td>1.0</td>\n",
       "      <td>2013-01-01</td>\n",
       "      <td>511</td>\n",
       "      <td>Terra</td>\n",
       "      <td>MODIS</td>\n",
       "      <td>70</td>\n",
       "      <td>6.2</td>\n",
       "      <td>295.5</td>\n",
       "      <td>18.0</td>\n",
       "      <td>D</td>\n",
       "      <td>0</td>\n",
       "      <td>NaN</td>\n",
       "      <td>NaN</td>\n",
       "    </tr>\n",
       "    <tr>\n",
       "      <th>1</th>\n",
       "      <td>28.3517</td>\n",
       "      <td>82.9548</td>\n",
       "      <td>308.4</td>\n",
       "      <td>1.0</td>\n",
       "      <td>1.0</td>\n",
       "      <td>2013-01-01</td>\n",
       "      <td>511</td>\n",
       "      <td>Terra</td>\n",
       "      <td>MODIS</td>\n",
       "      <td>67</td>\n",
       "      <td>6.2</td>\n",
       "      <td>288.2</td>\n",
       "      <td>10.5</td>\n",
       "      <td>D</td>\n",
       "      <td>0</td>\n",
       "      <td>NaN</td>\n",
       "      <td>NaN</td>\n",
       "    </tr>\n",
       "    <tr>\n",
       "      <th>2</th>\n",
       "      <td>29.0575</td>\n",
       "      <td>82.4327</td>\n",
       "      <td>308.6</td>\n",
       "      <td>1.1</td>\n",
       "      <td>1.0</td>\n",
       "      <td>2013-01-01</td>\n",
       "      <td>511</td>\n",
       "      <td>Terra</td>\n",
       "      <td>MODIS</td>\n",
       "      <td>33</td>\n",
       "      <td>6.2</td>\n",
       "      <td>287.3</td>\n",
       "      <td>9.1</td>\n",
       "      <td>D</td>\n",
       "      <td>0</td>\n",
       "      <td>NaN</td>\n",
       "      <td>NaN</td>\n",
       "    </tr>\n",
       "    <tr>\n",
       "      <th>3</th>\n",
       "      <td>28.4146</td>\n",
       "      <td>84.5473</td>\n",
       "      <td>304.5</td>\n",
       "      <td>1.0</td>\n",
       "      <td>1.0</td>\n",
       "      <td>2013-01-01</td>\n",
       "      <td>511</td>\n",
       "      <td>Terra</td>\n",
       "      <td>MODIS</td>\n",
       "      <td>32</td>\n",
       "      <td>6.2</td>\n",
       "      <td>291.5</td>\n",
       "      <td>8.1</td>\n",
       "      <td>D</td>\n",
       "      <td>0</td>\n",
       "      <td>NaN</td>\n",
       "      <td>NaN</td>\n",
       "    </tr>\n",
       "    <tr>\n",
       "      <th>4</th>\n",
       "      <td>29.0424</td>\n",
       "      <td>81.9060</td>\n",
       "      <td>302.7</td>\n",
       "      <td>2.8</td>\n",
       "      <td>1.6</td>\n",
       "      <td>2013-01-01</td>\n",
       "      <td>824</td>\n",
       "      <td>Aqua</td>\n",
       "      <td>MODIS</td>\n",
       "      <td>41</td>\n",
       "      <td>6.2</td>\n",
       "      <td>290.8</td>\n",
       "      <td>24.7</td>\n",
       "      <td>D</td>\n",
       "      <td>0</td>\n",
       "      <td>NaN</td>\n",
       "      <td>NaN</td>\n",
       "    </tr>\n",
       "  </tbody>\n",
       "</table>\n",
       "</div>"
      ],
      "text/plain": [
       "   latitude  longitude  brightness  scan  track    acq_date  acq_time  \\\n",
       "0   28.2590    85.1385       319.5   1.0    1.0  2013-01-01       511   \n",
       "1   28.3517    82.9548       308.4   1.0    1.0  2013-01-01       511   \n",
       "2   29.0575    82.4327       308.6   1.1    1.0  2013-01-01       511   \n",
       "3   28.4146    84.5473       304.5   1.0    1.0  2013-01-01       511   \n",
       "4   29.0424    81.9060       302.7   2.8    1.6  2013-01-01       824   \n",
       "\n",
       "  satellite instrument confidence  version  bright_t31   frp daynight  type  \\\n",
       "0     Terra      MODIS         70      6.2       295.5  18.0        D     0   \n",
       "1     Terra      MODIS         67      6.2       288.2  10.5        D     0   \n",
       "2     Terra      MODIS         33      6.2       287.3   9.1        D     0   \n",
       "3     Terra      MODIS         32      6.2       291.5   8.1        D     0   \n",
       "4      Aqua      MODIS         41      6.2       290.8  24.7        D     0   \n",
       "\n",
       "   bright_ti4  bright_ti5  \n",
       "0         NaN         NaN  \n",
       "1         NaN         NaN  \n",
       "2         NaN         NaN  \n",
       "3         NaN         NaN  \n",
       "4         NaN         NaN  "
      ]
     },
     "execution_count": 6,
     "metadata": {},
     "output_type": "execute_result"
    }
   ],
   "source": [
    "data.head()"
   ]
  },
  {
   "cell_type": "code",
   "execution_count": 7,
   "metadata": {},
   "outputs": [
    {
     "data": {
      "text/html": [
       "<div>\n",
       "<style scoped>\n",
       "    .dataframe tbody tr th:only-of-type {\n",
       "        vertical-align: middle;\n",
       "    }\n",
       "\n",
       "    .dataframe tbody tr th {\n",
       "        vertical-align: top;\n",
       "    }\n",
       "\n",
       "    .dataframe thead th {\n",
       "        text-align: right;\n",
       "    }\n",
       "</style>\n",
       "<table border=\"1\" class=\"dataframe\">\n",
       "  <thead>\n",
       "    <tr style=\"text-align: right;\">\n",
       "      <th></th>\n",
       "      <th>latitude</th>\n",
       "      <th>longitude</th>\n",
       "      <th>brightness</th>\n",
       "      <th>scan</th>\n",
       "      <th>track</th>\n",
       "      <th>acq_date</th>\n",
       "      <th>acq_time</th>\n",
       "      <th>satellite</th>\n",
       "      <th>instrument</th>\n",
       "      <th>confidence</th>\n",
       "      <th>version</th>\n",
       "      <th>bright_t31</th>\n",
       "      <th>frp</th>\n",
       "      <th>daynight</th>\n",
       "      <th>type</th>\n",
       "      <th>bright_ti4</th>\n",
       "      <th>bright_ti5</th>\n",
       "    </tr>\n",
       "  </thead>\n",
       "  <tbody>\n",
       "    <tr>\n",
       "      <th>1592119</th>\n",
       "      <td>27.125383</td>\n",
       "      <td>84.859642</td>\n",
       "      <td>NaN</td>\n",
       "      <td>0.39</td>\n",
       "      <td>0.36</td>\n",
       "      <td>2021-12-25</td>\n",
       "      <td>724</td>\n",
       "      <td>N</td>\n",
       "      <td>VIIRS</td>\n",
       "      <td>n</td>\n",
       "      <td>1.0</td>\n",
       "      <td>NaN</td>\n",
       "      <td>2.05</td>\n",
       "      <td>D</td>\n",
       "      <td>0</td>\n",
       "      <td>332.21</td>\n",
       "      <td>296.39</td>\n",
       "    </tr>\n",
       "    <tr>\n",
       "      <th>1592120</th>\n",
       "      <td>27.128704</td>\n",
       "      <td>84.858986</td>\n",
       "      <td>NaN</td>\n",
       "      <td>0.39</td>\n",
       "      <td>0.36</td>\n",
       "      <td>2021-12-25</td>\n",
       "      <td>724</td>\n",
       "      <td>N</td>\n",
       "      <td>VIIRS</td>\n",
       "      <td>n</td>\n",
       "      <td>1.0</td>\n",
       "      <td>NaN</td>\n",
       "      <td>2.05</td>\n",
       "      <td>D</td>\n",
       "      <td>0</td>\n",
       "      <td>331.20</td>\n",
       "      <td>293.93</td>\n",
       "    </tr>\n",
       "    <tr>\n",
       "      <th>1592121</th>\n",
       "      <td>28.698627</td>\n",
       "      <td>80.359848</td>\n",
       "      <td>NaN</td>\n",
       "      <td>0.54</td>\n",
       "      <td>0.42</td>\n",
       "      <td>2021-12-25</td>\n",
       "      <td>724</td>\n",
       "      <td>N</td>\n",
       "      <td>VIIRS</td>\n",
       "      <td>n</td>\n",
       "      <td>1.0</td>\n",
       "      <td>NaN</td>\n",
       "      <td>8.72</td>\n",
       "      <td>D</td>\n",
       "      <td>0</td>\n",
       "      <td>330.97</td>\n",
       "      <td>294.96</td>\n",
       "    </tr>\n",
       "    <tr>\n",
       "      <th>1592122</th>\n",
       "      <td>28.820669</td>\n",
       "      <td>80.171555</td>\n",
       "      <td>NaN</td>\n",
       "      <td>0.55</td>\n",
       "      <td>0.43</td>\n",
       "      <td>2021-12-25</td>\n",
       "      <td>724</td>\n",
       "      <td>N</td>\n",
       "      <td>VIIRS</td>\n",
       "      <td>n</td>\n",
       "      <td>1.0</td>\n",
       "      <td>NaN</td>\n",
       "      <td>3.87</td>\n",
       "      <td>D</td>\n",
       "      <td>0</td>\n",
       "      <td>332.00</td>\n",
       "      <td>296.71</td>\n",
       "    </tr>\n",
       "    <tr>\n",
       "      <th>1592123</th>\n",
       "      <td>29.633783</td>\n",
       "      <td>81.807281</td>\n",
       "      <td>NaN</td>\n",
       "      <td>0.43</td>\n",
       "      <td>0.46</td>\n",
       "      <td>2021-12-31</td>\n",
       "      <td>712</td>\n",
       "      <td>N</td>\n",
       "      <td>VIIRS</td>\n",
       "      <td>n</td>\n",
       "      <td>1.0</td>\n",
       "      <td>NaN</td>\n",
       "      <td>3.30</td>\n",
       "      <td>D</td>\n",
       "      <td>0</td>\n",
       "      <td>329.38</td>\n",
       "      <td>294.68</td>\n",
       "    </tr>\n",
       "  </tbody>\n",
       "</table>\n",
       "</div>"
      ],
      "text/plain": [
       "          latitude  longitude  brightness  scan  track    acq_date  acq_time  \\\n",
       "1592119  27.125383  84.859642         NaN  0.39   0.36  2021-12-25       724   \n",
       "1592120  27.128704  84.858986         NaN  0.39   0.36  2021-12-25       724   \n",
       "1592121  28.698627  80.359848         NaN  0.54   0.42  2021-12-25       724   \n",
       "1592122  28.820669  80.171555         NaN  0.55   0.43  2021-12-25       724   \n",
       "1592123  29.633783  81.807281         NaN  0.43   0.46  2021-12-31       712   \n",
       "\n",
       "        satellite instrument confidence  version  bright_t31   frp daynight  \\\n",
       "1592119         N      VIIRS          n      1.0         NaN  2.05        D   \n",
       "1592120         N      VIIRS          n      1.0         NaN  2.05        D   \n",
       "1592121         N      VIIRS          n      1.0         NaN  8.72        D   \n",
       "1592122         N      VIIRS          n      1.0         NaN  3.87        D   \n",
       "1592123         N      VIIRS          n      1.0         NaN  3.30        D   \n",
       "\n",
       "         type  bright_ti4  bright_ti5  \n",
       "1592119     0      332.21      296.39  \n",
       "1592120     0      331.20      293.93  \n",
       "1592121     0      330.97      294.96  \n",
       "1592122     0      332.00      296.71  \n",
       "1592123     0      329.38      294.68  "
      ]
     },
     "execution_count": 7,
     "metadata": {},
     "output_type": "execute_result"
    }
   ],
   "source": [
    "data.tail()"
   ]
  },
  {
   "cell_type": "code",
   "execution_count": 8,
   "metadata": {},
   "outputs": [
    {
     "name": "stdout",
     "output_type": "stream",
     "text": [
      "<class 'pandas.core.frame.DataFrame'>\n",
      "Int64Index: 866554 entries, 0 to 1592123\n",
      "Data columns (total 17 columns):\n",
      " #   Column      Non-Null Count   Dtype  \n",
      "---  ------      --------------   -----  \n",
      " 0   latitude    866554 non-null  float64\n",
      " 1   longitude   866554 non-null  float64\n",
      " 2   brightness  265120 non-null  float64\n",
      " 3   scan        866554 non-null  float64\n",
      " 4   track       866554 non-null  float64\n",
      " 5   acq_date    866554 non-null  object \n",
      " 6   acq_time    866554 non-null  int64  \n",
      " 7   satellite   866554 non-null  object \n",
      " 8   instrument  866554 non-null  object \n",
      " 9   confidence  866554 non-null  object \n",
      " 10  version     866554 non-null  float64\n",
      " 11  bright_t31  265120 non-null  float64\n",
      " 12  frp         866554 non-null  float64\n",
      " 13  daynight    866554 non-null  object \n",
      " 14  type        866554 non-null  int64  \n",
      " 15  bright_ti4  601434 non-null  float64\n",
      " 16  bright_ti5  601434 non-null  float64\n",
      "dtypes: float64(10), int64(2), object(5)\n",
      "memory usage: 119.0+ MB\n"
     ]
    }
   ],
   "source": [
    "data.info()"
   ]
  },
  {
   "cell_type": "code",
   "execution_count": 9,
   "metadata": {},
   "outputs": [
    {
     "data": {
      "text/plain": [
       "Index(['latitude', 'longitude', 'brightness', 'scan', 'track', 'acq_date',\n",
       "       'acq_time', 'satellite', 'instrument', 'confidence', 'version',\n",
       "       'bright_t31', 'frp', 'daynight', 'type', 'bright_ti4', 'bright_ti5'],\n",
       "      dtype='object')"
      ]
     },
     "execution_count": 9,
     "metadata": {},
     "output_type": "execute_result"
    }
   ],
   "source": [
    "data.columns"
   ]
  },
  {
   "cell_type": "code",
   "execution_count": 10,
   "metadata": {},
   "outputs": [
    {
     "data": {
      "text/plain": [
       "latitude           0\n",
       "longitude          0\n",
       "brightness    601434\n",
       "scan               0\n",
       "track              0\n",
       "acq_date           0\n",
       "acq_time           0\n",
       "satellite          0\n",
       "instrument         0\n",
       "confidence         0\n",
       "version            0\n",
       "bright_t31    601434\n",
       "frp                0\n",
       "daynight           0\n",
       "type               0\n",
       "bright_ti4    265120\n",
       "bright_ti5    265120\n",
       "dtype: int64"
      ]
     },
     "execution_count": 10,
     "metadata": {},
     "output_type": "execute_result"
    }
   ],
   "source": [
    "data.isnull().sum()"
   ]
  },
  {
   "cell_type": "code",
   "execution_count": 11,
   "metadata": {},
   "outputs": [
    {
     "data": {
      "text/plain": [
       "(866554, 17)"
      ]
     },
     "execution_count": 11,
     "metadata": {},
     "output_type": "execute_result"
    }
   ],
   "source": [
    "data.shape"
   ]
  },
  {
   "cell_type": "code",
   "execution_count": 12,
   "metadata": {},
   "outputs": [
    {
     "data": {
      "text/html": [
       "<div>\n",
       "<style scoped>\n",
       "    .dataframe tbody tr th:only-of-type {\n",
       "        vertical-align: middle;\n",
       "    }\n",
       "\n",
       "    .dataframe tbody tr th {\n",
       "        vertical-align: top;\n",
       "    }\n",
       "\n",
       "    .dataframe thead th {\n",
       "        text-align: right;\n",
       "    }\n",
       "</style>\n",
       "<table border=\"1\" class=\"dataframe\">\n",
       "  <thead>\n",
       "    <tr style=\"text-align: right;\">\n",
       "      <th></th>\n",
       "      <th>latitude</th>\n",
       "      <th>longitude</th>\n",
       "      <th>brightness</th>\n",
       "      <th>scan</th>\n",
       "      <th>track</th>\n",
       "      <th>acq_time</th>\n",
       "      <th>version</th>\n",
       "      <th>bright_t31</th>\n",
       "      <th>frp</th>\n",
       "      <th>type</th>\n",
       "      <th>bright_ti4</th>\n",
       "      <th>bright_ti5</th>\n",
       "    </tr>\n",
       "  </thead>\n",
       "  <tbody>\n",
       "    <tr>\n",
       "      <th>count</th>\n",
       "      <td>866554.000000</td>\n",
       "      <td>866554.000000</td>\n",
       "      <td>265120.000000</td>\n",
       "      <td>866554.000000</td>\n",
       "      <td>866554.000000</td>\n",
       "      <td>866554.000000</td>\n",
       "      <td>866554.000000</td>\n",
       "      <td>265120.000000</td>\n",
       "      <td>866554.000000</td>\n",
       "      <td>866554.000000</td>\n",
       "      <td>601434.000000</td>\n",
       "      <td>601434.000000</td>\n",
       "    </tr>\n",
       "    <tr>\n",
       "      <th>mean</th>\n",
       "      <td>28.101421</td>\n",
       "      <td>83.233290</td>\n",
       "      <td>319.359122</td>\n",
       "      <td>0.734559</td>\n",
       "      <td>0.665229</td>\n",
       "      <td>1252.200913</td>\n",
       "      <td>2.576427</td>\n",
       "      <td>300.253998</td>\n",
       "      <td>8.951506</td>\n",
       "      <td>0.002412</td>\n",
       "      <td>323.106973</td>\n",
       "      <td>296.779639</td>\n",
       "    </tr>\n",
       "    <tr>\n",
       "      <th>std</th>\n",
       "      <td>0.766397</td>\n",
       "      <td>2.083861</td>\n",
       "      <td>11.706690</td>\n",
       "      <td>0.549596</td>\n",
       "      <td>0.344149</td>\n",
       "      <td>629.577855</td>\n",
       "      <td>2.374736</td>\n",
       "      <td>8.304995</td>\n",
       "      <td>21.703668</td>\n",
       "      <td>0.084319</td>\n",
       "      <td>17.755905</td>\n",
       "      <td>8.902940</td>\n",
       "    </tr>\n",
       "    <tr>\n",
       "      <th>min</th>\n",
       "      <td>26.377500</td>\n",
       "      <td>80.031349</td>\n",
       "      <td>300.000000</td>\n",
       "      <td>0.320000</td>\n",
       "      <td>0.360000</td>\n",
       "      <td>404.000000</td>\n",
       "      <td>1.000000</td>\n",
       "      <td>265.200000</td>\n",
       "      <td>0.000000</td>\n",
       "      <td>0.000000</td>\n",
       "      <td>208.000000</td>\n",
       "      <td>234.550000</td>\n",
       "    </tr>\n",
       "    <tr>\n",
       "      <th>25%</th>\n",
       "      <td>27.495331</td>\n",
       "      <td>81.492989</td>\n",
       "      <td>310.700000</td>\n",
       "      <td>0.400000</td>\n",
       "      <td>0.380000</td>\n",
       "      <td>730.000000</td>\n",
       "      <td>1.000000</td>\n",
       "      <td>293.900000</td>\n",
       "      <td>1.630000</td>\n",
       "      <td>0.000000</td>\n",
       "      <td>306.260000</td>\n",
       "      <td>290.690000</td>\n",
       "    </tr>\n",
       "    <tr>\n",
       "      <th>50%</th>\n",
       "      <td>28.046300</td>\n",
       "      <td>82.696625</td>\n",
       "      <td>319.400000</td>\n",
       "      <td>0.480000</td>\n",
       "      <td>0.500000</td>\n",
       "      <td>807.000000</td>\n",
       "      <td>1.000000</td>\n",
       "      <td>301.200000</td>\n",
       "      <td>4.230000</td>\n",
       "      <td>0.000000</td>\n",
       "      <td>323.040000</td>\n",
       "      <td>295.090000</td>\n",
       "    </tr>\n",
       "    <tr>\n",
       "      <th>75%</th>\n",
       "      <td>28.725700</td>\n",
       "      <td>84.865585</td>\n",
       "      <td>325.700000</td>\n",
       "      <td>1.000000</td>\n",
       "      <td>1.000000</td>\n",
       "      <td>2001.000000</td>\n",
       "      <td>6.030000</td>\n",
       "      <td>306.600000</td>\n",
       "      <td>9.500000</td>\n",
       "      <td>0.000000</td>\n",
       "      <td>337.540000</td>\n",
       "      <td>303.960000</td>\n",
       "    </tr>\n",
       "    <tr>\n",
       "      <th>max</th>\n",
       "      <td>30.266900</td>\n",
       "      <td>88.161278</td>\n",
       "      <td>477.200000</td>\n",
       "      <td>4.800000</td>\n",
       "      <td>2.000000</td>\n",
       "      <td>2128.000000</td>\n",
       "      <td>6.200000</td>\n",
       "      <td>328.000000</td>\n",
       "      <td>2479.900000</td>\n",
       "      <td>3.000000</td>\n",
       "      <td>367.000000</td>\n",
       "      <td>367.990000</td>\n",
       "    </tr>\n",
       "  </tbody>\n",
       "</table>\n",
       "</div>"
      ],
      "text/plain": [
       "            latitude      longitude     brightness           scan  \\\n",
       "count  866554.000000  866554.000000  265120.000000  866554.000000   \n",
       "mean       28.101421      83.233290     319.359122       0.734559   \n",
       "std         0.766397       2.083861      11.706690       0.549596   \n",
       "min        26.377500      80.031349     300.000000       0.320000   \n",
       "25%        27.495331      81.492989     310.700000       0.400000   \n",
       "50%        28.046300      82.696625     319.400000       0.480000   \n",
       "75%        28.725700      84.865585     325.700000       1.000000   \n",
       "max        30.266900      88.161278     477.200000       4.800000   \n",
       "\n",
       "               track       acq_time        version     bright_t31  \\\n",
       "count  866554.000000  866554.000000  866554.000000  265120.000000   \n",
       "mean        0.665229    1252.200913       2.576427     300.253998   \n",
       "std         0.344149     629.577855       2.374736       8.304995   \n",
       "min         0.360000     404.000000       1.000000     265.200000   \n",
       "25%         0.380000     730.000000       1.000000     293.900000   \n",
       "50%         0.500000     807.000000       1.000000     301.200000   \n",
       "75%         1.000000    2001.000000       6.030000     306.600000   \n",
       "max         2.000000    2128.000000       6.200000     328.000000   \n",
       "\n",
       "                 frp           type     bright_ti4     bright_ti5  \n",
       "count  866554.000000  866554.000000  601434.000000  601434.000000  \n",
       "mean        8.951506       0.002412     323.106973     296.779639  \n",
       "std        21.703668       0.084319      17.755905       8.902940  \n",
       "min         0.000000       0.000000     208.000000     234.550000  \n",
       "25%         1.630000       0.000000     306.260000     290.690000  \n",
       "50%         4.230000       0.000000     323.040000     295.090000  \n",
       "75%         9.500000       0.000000     337.540000     303.960000  \n",
       "max      2479.900000       3.000000     367.000000     367.990000  "
      ]
     },
     "execution_count": 12,
     "metadata": {},
     "output_type": "execute_result"
    }
   ],
   "source": [
    "data.describe()"
   ]
  },
  {
   "cell_type": "code",
   "execution_count": 13,
   "metadata": {},
   "outputs": [
    {
     "data": {
      "text/plain": [
       "array(['Terra', 'Aqua', 'N'], dtype=object)"
      ]
     },
     "execution_count": 13,
     "metadata": {},
     "output_type": "execute_result"
    }
   ],
   "source": [
    "data['satellite'].unique()"
   ]
  },
  {
   "cell_type": "code",
   "execution_count": 14,
   "metadata": {},
   "outputs": [
    {
     "data": {
      "text/plain": [
       "array(['MODIS', 'VIIRS'], dtype=object)"
      ]
     },
     "execution_count": 14,
     "metadata": {},
     "output_type": "execute_result"
    }
   ],
   "source": [
    "data.instrument.unique()"
   ]
  },
  {
   "cell_type": "code",
   "execution_count": 15,
   "metadata": {},
   "outputs": [
    {
     "data": {
      "text/plain": [
       "866554"
      ]
     },
     "execution_count": 15,
     "metadata": {},
     "output_type": "execute_result"
    }
   ],
   "source": [
    "data.confidence.count()"
   ]
  },
  {
   "cell_type": "code",
   "execution_count": 16,
   "metadata": {},
   "outputs": [],
   "source": [
    "def map_confidence(confidence):    \n",
    "\n",
    "    if (confidence == 'l'):\n",
    "        return 30\n",
    "    elif (confidence == 'n'):\n",
    "        return 60\n",
    "    elif (confidence == 'h'):\n",
    "        return 90\n",
    "    #convert the string and int to int\n",
    "    else:\n",
    "        return int(confidence)\n",
    "\n",
    "\n",
    "# Apply the mapping function to the 'confidence' column\n",
    "data['confidence'] = data['confidence'].apply(map_confidence)"
   ]
  },
  {
   "cell_type": "code",
   "execution_count": 17,
   "metadata": {},
   "outputs": [],
   "source": [
    "# converting string to int\n",
    "data['confidence'] = data['confidence'].astype(int)"
   ]
  },
  {
   "cell_type": "code",
   "execution_count": 18,
   "metadata": {},
   "outputs": [
    {
     "data": {
      "text/plain": [
       "array([ 70,  67,  33,  32,  41,  86,  76,  74,  56,  84,  83,  72,  80,\n",
       "        43, 100,  87,  46,  71,  36,  66,  39,  21,   9,  68,  77,  29,\n",
       "        15,  50,  89,  26,  25,  51,  99,  44,  58,   0,  73,  92,  93,\n",
       "        62,  37,  13,  40,  27,  48,  79,  20,  60,  52,  59,  45,  85,\n",
       "        82,  54,  35,  57,  63,  53,  75,  55,  65,  30,  61,  42,  81,\n",
       "        34,  91,  78,  96,  47,  49,  64,  24,  28,  23,  69,  19,  38,\n",
       "        97,  31,  94,  95,  17,  88,  22,   7,  11,   6,  90,  10,  98,\n",
       "         5,  18,  12,   2,  14,  16,   4,   8,   3,   1])"
      ]
     },
     "execution_count": 18,
     "metadata": {},
     "output_type": "execute_result"
    }
   ],
   "source": [
    "data.confidence.unique()"
   ]
  },
  {
   "cell_type": "code",
   "execution_count": 19,
   "metadata": {},
   "outputs": [],
   "source": [
    "# convert all the values in confidence column to numeric\n",
    "# data['confidence'] = pd.to_numeric(data['confidence'], errors='coerce')"
   ]
  },
  {
   "cell_type": "code",
   "execution_count": 20,
   "metadata": {},
   "outputs": [
    {
     "data": {
      "text/plain": [
       "866554"
      ]
     },
     "execution_count": 20,
     "metadata": {},
     "output_type": "execute_result"
    }
   ],
   "source": [
    "data.confidence.count()"
   ]
  },
  {
   "cell_type": "code",
   "execution_count": 21,
   "metadata": {},
   "outputs": [
    {
     "data": {
      "text/plain": [
       "array(['D', 'N', '1', '0'], dtype=object)"
      ]
     },
     "execution_count": 21,
     "metadata": {},
     "output_type": "execute_result"
    }
   ],
   "source": [
    "data.daynight.unique()"
   ]
  },
  {
   "cell_type": "code",
   "execution_count": 22,
   "metadata": {},
   "outputs": [],
   "source": [
    "def map_confidence(daynight):\n",
    "    if (daynight == 'D'):\n",
    "        return 1\n",
    "    elif (daynight == 'N'):\n",
    "        return 0\n",
    "    else:\n",
    "        return int(daynight)\n",
    "\n",
    "\n",
    "\n",
    "# Apply the mapping function to the 'confidence' column\n",
    "data['daynight'] = data['daynight'].apply(map_confidence)"
   ]
  },
  {
   "cell_type": "code",
   "execution_count": 23,
   "metadata": {},
   "outputs": [
    {
     "data": {
      "text/plain": [
       "array([1, 0], dtype=int64)"
      ]
     },
     "execution_count": 23,
     "metadata": {},
     "output_type": "execute_result"
    }
   ],
   "source": [
    "data.daynight.unique()"
   ]
  },
  {
   "cell_type": "markdown",
   "metadata": {},
   "source": [
    "# One Hot Encoder"
   ]
  },
  {
   "cell_type": "code",
   "execution_count": 24,
   "metadata": {},
   "outputs": [],
   "source": [
    "from sklearn.preprocessing import LabelEncoder"
   ]
  },
  {
   "cell_type": "code",
   "execution_count": 25,
   "metadata": {},
   "outputs": [],
   "source": [
    "label_encoder = LabelEncoder()\n",
    "data['confidence'] = label_encoder.fit_transform(data['confidence'])\n",
    "\n"
   ]
  },
  {
   "cell_type": "code",
   "execution_count": 26,
   "metadata": {},
   "outputs": [
    {
     "data": {
      "text/plain": [
       "array([0, 2, 3], dtype=int64)"
      ]
     },
     "execution_count": 26,
     "metadata": {},
     "output_type": "execute_result"
    }
   ],
   "source": [
    "data.type.unique()"
   ]
  },
  {
   "cell_type": "code",
   "execution_count": 27,
   "metadata": {},
   "outputs": [
    {
     "data": {
      "text/html": [
       "<div>\n",
       "<style scoped>\n",
       "    .dataframe tbody tr th:only-of-type {\n",
       "        vertical-align: middle;\n",
       "    }\n",
       "\n",
       "    .dataframe tbody tr th {\n",
       "        vertical-align: top;\n",
       "    }\n",
       "\n",
       "    .dataframe thead th {\n",
       "        text-align: right;\n",
       "    }\n",
       "</style>\n",
       "<table border=\"1\" class=\"dataframe\">\n",
       "  <thead>\n",
       "    <tr style=\"text-align: right;\">\n",
       "      <th></th>\n",
       "      <th>latitude</th>\n",
       "      <th>longitude</th>\n",
       "      <th>brightness</th>\n",
       "      <th>scan</th>\n",
       "      <th>track</th>\n",
       "      <th>acq_date</th>\n",
       "      <th>acq_time</th>\n",
       "      <th>satellite</th>\n",
       "      <th>instrument</th>\n",
       "      <th>confidence</th>\n",
       "      <th>version</th>\n",
       "      <th>bright_t31</th>\n",
       "      <th>frp</th>\n",
       "      <th>daynight</th>\n",
       "      <th>type</th>\n",
       "      <th>bright_ti4</th>\n",
       "      <th>bright_ti5</th>\n",
       "    </tr>\n",
       "  </thead>\n",
       "  <tbody>\n",
       "    <tr>\n",
       "      <th>0</th>\n",
       "      <td>28.2590</td>\n",
       "      <td>85.1385</td>\n",
       "      <td>319.5</td>\n",
       "      <td>1.0</td>\n",
       "      <td>1.0</td>\n",
       "      <td>2013-01-01</td>\n",
       "      <td>511</td>\n",
       "      <td>Terra</td>\n",
       "      <td>MODIS</td>\n",
       "      <td>70</td>\n",
       "      <td>6.2</td>\n",
       "      <td>295.5</td>\n",
       "      <td>18.0</td>\n",
       "      <td>1</td>\n",
       "      <td>0</td>\n",
       "      <td>NaN</td>\n",
       "      <td>NaN</td>\n",
       "    </tr>\n",
       "    <tr>\n",
       "      <th>1</th>\n",
       "      <td>28.3517</td>\n",
       "      <td>82.9548</td>\n",
       "      <td>308.4</td>\n",
       "      <td>1.0</td>\n",
       "      <td>1.0</td>\n",
       "      <td>2013-01-01</td>\n",
       "      <td>511</td>\n",
       "      <td>Terra</td>\n",
       "      <td>MODIS</td>\n",
       "      <td>67</td>\n",
       "      <td>6.2</td>\n",
       "      <td>288.2</td>\n",
       "      <td>10.5</td>\n",
       "      <td>1</td>\n",
       "      <td>0</td>\n",
       "      <td>NaN</td>\n",
       "      <td>NaN</td>\n",
       "    </tr>\n",
       "    <tr>\n",
       "      <th>2</th>\n",
       "      <td>29.0575</td>\n",
       "      <td>82.4327</td>\n",
       "      <td>308.6</td>\n",
       "      <td>1.1</td>\n",
       "      <td>1.0</td>\n",
       "      <td>2013-01-01</td>\n",
       "      <td>511</td>\n",
       "      <td>Terra</td>\n",
       "      <td>MODIS</td>\n",
       "      <td>33</td>\n",
       "      <td>6.2</td>\n",
       "      <td>287.3</td>\n",
       "      <td>9.1</td>\n",
       "      <td>1</td>\n",
       "      <td>0</td>\n",
       "      <td>NaN</td>\n",
       "      <td>NaN</td>\n",
       "    </tr>\n",
       "    <tr>\n",
       "      <th>3</th>\n",
       "      <td>28.4146</td>\n",
       "      <td>84.5473</td>\n",
       "      <td>304.5</td>\n",
       "      <td>1.0</td>\n",
       "      <td>1.0</td>\n",
       "      <td>2013-01-01</td>\n",
       "      <td>511</td>\n",
       "      <td>Terra</td>\n",
       "      <td>MODIS</td>\n",
       "      <td>32</td>\n",
       "      <td>6.2</td>\n",
       "      <td>291.5</td>\n",
       "      <td>8.1</td>\n",
       "      <td>1</td>\n",
       "      <td>0</td>\n",
       "      <td>NaN</td>\n",
       "      <td>NaN</td>\n",
       "    </tr>\n",
       "    <tr>\n",
       "      <th>4</th>\n",
       "      <td>29.0424</td>\n",
       "      <td>81.9060</td>\n",
       "      <td>302.7</td>\n",
       "      <td>2.8</td>\n",
       "      <td>1.6</td>\n",
       "      <td>2013-01-01</td>\n",
       "      <td>824</td>\n",
       "      <td>Aqua</td>\n",
       "      <td>MODIS</td>\n",
       "      <td>41</td>\n",
       "      <td>6.2</td>\n",
       "      <td>290.8</td>\n",
       "      <td>24.7</td>\n",
       "      <td>1</td>\n",
       "      <td>0</td>\n",
       "      <td>NaN</td>\n",
       "      <td>NaN</td>\n",
       "    </tr>\n",
       "  </tbody>\n",
       "</table>\n",
       "</div>"
      ],
      "text/plain": [
       "   latitude  longitude  brightness  scan  track    acq_date  acq_time  \\\n",
       "0   28.2590    85.1385       319.5   1.0    1.0  2013-01-01       511   \n",
       "1   28.3517    82.9548       308.4   1.0    1.0  2013-01-01       511   \n",
       "2   29.0575    82.4327       308.6   1.1    1.0  2013-01-01       511   \n",
       "3   28.4146    84.5473       304.5   1.0    1.0  2013-01-01       511   \n",
       "4   29.0424    81.9060       302.7   2.8    1.6  2013-01-01       824   \n",
       "\n",
       "  satellite instrument  confidence  version  bright_t31   frp  daynight  type  \\\n",
       "0     Terra      MODIS          70      6.2       295.5  18.0         1     0   \n",
       "1     Terra      MODIS          67      6.2       288.2  10.5         1     0   \n",
       "2     Terra      MODIS          33      6.2       287.3   9.1         1     0   \n",
       "3     Terra      MODIS          32      6.2       291.5   8.1         1     0   \n",
       "4      Aqua      MODIS          41      6.2       290.8  24.7         1     0   \n",
       "\n",
       "   bright_ti4  bright_ti5  \n",
       "0         NaN         NaN  \n",
       "1         NaN         NaN  \n",
       "2         NaN         NaN  \n",
       "3         NaN         NaN  \n",
       "4         NaN         NaN  "
      ]
     },
     "execution_count": 27,
     "metadata": {},
     "output_type": "execute_result"
    }
   ],
   "source": [
    "data.head()"
   ]
  },
  {
   "cell_type": "code",
   "execution_count": 28,
   "metadata": {},
   "outputs": [],
   "source": [
    "#onverting frp to int roundig to nearest value\n",
    "data['frp'] = data['frp'].astype(int)"
   ]
  },
  {
   "cell_type": "code",
   "execution_count": 29,
   "metadata": {},
   "outputs": [
    {
     "data": {
      "text/html": [
       "<div>\n",
       "<style scoped>\n",
       "    .dataframe tbody tr th:only-of-type {\n",
       "        vertical-align: middle;\n",
       "    }\n",
       "\n",
       "    .dataframe tbody tr th {\n",
       "        vertical-align: top;\n",
       "    }\n",
       "\n",
       "    .dataframe thead th {\n",
       "        text-align: right;\n",
       "    }\n",
       "</style>\n",
       "<table border=\"1\" class=\"dataframe\">\n",
       "  <thead>\n",
       "    <tr style=\"text-align: right;\">\n",
       "      <th></th>\n",
       "      <th>latitude</th>\n",
       "      <th>longitude</th>\n",
       "      <th>brightness</th>\n",
       "      <th>scan</th>\n",
       "      <th>track</th>\n",
       "      <th>acq_date</th>\n",
       "      <th>acq_time</th>\n",
       "      <th>satellite</th>\n",
       "      <th>instrument</th>\n",
       "      <th>confidence</th>\n",
       "      <th>version</th>\n",
       "      <th>bright_t31</th>\n",
       "      <th>frp</th>\n",
       "      <th>daynight</th>\n",
       "      <th>type</th>\n",
       "      <th>bright_ti4</th>\n",
       "      <th>bright_ti5</th>\n",
       "      <th>month</th>\n",
       "      <th>day</th>\n",
       "    </tr>\n",
       "  </thead>\n",
       "  <tbody>\n",
       "    <tr>\n",
       "      <th>1592119</th>\n",
       "      <td>27.125383</td>\n",
       "      <td>84.859642</td>\n",
       "      <td>NaN</td>\n",
       "      <td>0.39</td>\n",
       "      <td>0.36</td>\n",
       "      <td>2021-12-25</td>\n",
       "      <td>724</td>\n",
       "      <td>N</td>\n",
       "      <td>VIIRS</td>\n",
       "      <td>60</td>\n",
       "      <td>1.0</td>\n",
       "      <td>NaN</td>\n",
       "      <td>2</td>\n",
       "      <td>1</td>\n",
       "      <td>0</td>\n",
       "      <td>332.21</td>\n",
       "      <td>296.39</td>\n",
       "      <td>12</td>\n",
       "      <td>25</td>\n",
       "    </tr>\n",
       "    <tr>\n",
       "      <th>1592120</th>\n",
       "      <td>27.128704</td>\n",
       "      <td>84.858986</td>\n",
       "      <td>NaN</td>\n",
       "      <td>0.39</td>\n",
       "      <td>0.36</td>\n",
       "      <td>2021-12-25</td>\n",
       "      <td>724</td>\n",
       "      <td>N</td>\n",
       "      <td>VIIRS</td>\n",
       "      <td>60</td>\n",
       "      <td>1.0</td>\n",
       "      <td>NaN</td>\n",
       "      <td>2</td>\n",
       "      <td>1</td>\n",
       "      <td>0</td>\n",
       "      <td>331.20</td>\n",
       "      <td>293.93</td>\n",
       "      <td>12</td>\n",
       "      <td>25</td>\n",
       "    </tr>\n",
       "    <tr>\n",
       "      <th>1592121</th>\n",
       "      <td>28.698627</td>\n",
       "      <td>80.359848</td>\n",
       "      <td>NaN</td>\n",
       "      <td>0.54</td>\n",
       "      <td>0.42</td>\n",
       "      <td>2021-12-25</td>\n",
       "      <td>724</td>\n",
       "      <td>N</td>\n",
       "      <td>VIIRS</td>\n",
       "      <td>60</td>\n",
       "      <td>1.0</td>\n",
       "      <td>NaN</td>\n",
       "      <td>8</td>\n",
       "      <td>1</td>\n",
       "      <td>0</td>\n",
       "      <td>330.97</td>\n",
       "      <td>294.96</td>\n",
       "      <td>12</td>\n",
       "      <td>25</td>\n",
       "    </tr>\n",
       "    <tr>\n",
       "      <th>1592122</th>\n",
       "      <td>28.820669</td>\n",
       "      <td>80.171555</td>\n",
       "      <td>NaN</td>\n",
       "      <td>0.55</td>\n",
       "      <td>0.43</td>\n",
       "      <td>2021-12-25</td>\n",
       "      <td>724</td>\n",
       "      <td>N</td>\n",
       "      <td>VIIRS</td>\n",
       "      <td>60</td>\n",
       "      <td>1.0</td>\n",
       "      <td>NaN</td>\n",
       "      <td>3</td>\n",
       "      <td>1</td>\n",
       "      <td>0</td>\n",
       "      <td>332.00</td>\n",
       "      <td>296.71</td>\n",
       "      <td>12</td>\n",
       "      <td>25</td>\n",
       "    </tr>\n",
       "    <tr>\n",
       "      <th>1592123</th>\n",
       "      <td>29.633783</td>\n",
       "      <td>81.807281</td>\n",
       "      <td>NaN</td>\n",
       "      <td>0.43</td>\n",
       "      <td>0.46</td>\n",
       "      <td>2021-12-31</td>\n",
       "      <td>712</td>\n",
       "      <td>N</td>\n",
       "      <td>VIIRS</td>\n",
       "      <td>60</td>\n",
       "      <td>1.0</td>\n",
       "      <td>NaN</td>\n",
       "      <td>3</td>\n",
       "      <td>1</td>\n",
       "      <td>0</td>\n",
       "      <td>329.38</td>\n",
       "      <td>294.68</td>\n",
       "      <td>12</td>\n",
       "      <td>31</td>\n",
       "    </tr>\n",
       "  </tbody>\n",
       "</table>\n",
       "</div>"
      ],
      "text/plain": [
       "          latitude  longitude  brightness  scan  track   acq_date  acq_time  \\\n",
       "1592119  27.125383  84.859642         NaN  0.39   0.36 2021-12-25       724   \n",
       "1592120  27.128704  84.858986         NaN  0.39   0.36 2021-12-25       724   \n",
       "1592121  28.698627  80.359848         NaN  0.54   0.42 2021-12-25       724   \n",
       "1592122  28.820669  80.171555         NaN  0.55   0.43 2021-12-25       724   \n",
       "1592123  29.633783  81.807281         NaN  0.43   0.46 2021-12-31       712   \n",
       "\n",
       "        satellite instrument  confidence  version  bright_t31  frp  daynight  \\\n",
       "1592119         N      VIIRS          60      1.0         NaN    2         1   \n",
       "1592120         N      VIIRS          60      1.0         NaN    2         1   \n",
       "1592121         N      VIIRS          60      1.0         NaN    8         1   \n",
       "1592122         N      VIIRS          60      1.0         NaN    3         1   \n",
       "1592123         N      VIIRS          60      1.0         NaN    3         1   \n",
       "\n",
       "         type  bright_ti4  bright_ti5  month  day  \n",
       "1592119     0      332.21      296.39     12   25  \n",
       "1592120     0      331.20      293.93     12   25  \n",
       "1592121     0      330.97      294.96     12   25  \n",
       "1592122     0      332.00      296.71     12   25  \n",
       "1592123     0      329.38      294.68     12   31  "
      ]
     },
     "execution_count": 29,
     "metadata": {},
     "output_type": "execute_result"
    }
   ],
   "source": [
    "data['acq_date'] = pd.to_datetime(data['acq_date'])\n",
    "data['month'] = data['acq_date'].dt.month\n",
    "data['day'] = ((data['acq_date'].dt.day))\n",
    "data.tail()"
   ]
  },
  {
   "cell_type": "code",
   "execution_count": 30,
   "metadata": {},
   "outputs": [
    {
     "data": {
      "text/plain": [
       "4     446374\n",
       "3     185996\n",
       "5     119308\n",
       "2      30486\n",
       "12     27308\n",
       "1      26382\n",
       "6      14512\n",
       "11     13584\n",
       "10      1992\n",
       "9        298\n",
       "8        176\n",
       "7        138\n",
       "Name: month, dtype: int64"
      ]
     },
     "execution_count": 30,
     "metadata": {},
     "output_type": "execute_result"
    }
   ],
   "source": [
    "data['month'].value_counts()"
   ]
  },
  {
   "cell_type": "markdown",
   "metadata": {},
   "source": [
    "# khai k ho kei mildaina"
   ]
  },
  {
   "cell_type": "code",
   "execution_count": 31,
   "metadata": {},
   "outputs": [],
   "source": [
    "import pandas as pd\n",
    "from sklearn.model_selection import train_test_split\n",
    "from sklearn.linear_model import LogisticRegression\n",
    "from sklearn.metrics import accuracy_score, classification_report, confusion_matrix"
   ]
  },
  {
   "cell_type": "code",
   "execution_count": 32,
   "metadata": {},
   "outputs": [],
   "source": [
    "X = data[['latitude', 'longitude', 'month', 'day']]"
   ]
  },
  {
   "cell_type": "code",
   "execution_count": 33,
   "metadata": {},
   "outputs": [],
   "source": [
    "Y = data[['type']] "
   ]
  },
  {
   "cell_type": "code",
   "execution_count": 34,
   "metadata": {},
   "outputs": [],
   "source": [
    "X_train, X_test, y_train, y_test = train_test_split(X, Y, test_size=0.20, random_state=42)"
   ]
  },
  {
   "cell_type": "markdown",
   "metadata": {},
   "source": [
    "### Testing all algorithms"
   ]
  },
  {
   "cell_type": "code",
   "execution_count": 35,
   "metadata": {},
   "outputs": [],
   "source": [
    "# Checking with other algorithms\n",
    "from sklearn.linear_model import LogisticRegression\n",
    "from sklearn.svm import SVC\n",
    "from sklearn.naive_bayes import MultinomialNB\n",
    "from sklearn.tree import DecisionTreeClassifier\n",
    "from sklearn.neighbors import KNeighborsClassifier\n",
    "from sklearn.ensemble import RandomForestClassifier\n",
    "from sklearn.ensemble import AdaBoostClassifier\n",
    "from sklearn.ensemble import BaggingClassifier\n",
    "from sklearn.ensemble import ExtraTreesClassifier\n",
    "from sklearn.ensemble import GradientBoostingClassifier\n",
    "from xgboost import XGBClassifier"
   ]
  },
  {
   "cell_type": "code",
   "execution_count": 36,
   "metadata": {},
   "outputs": [],
   "source": [
    "svc = SVC(kernel='sigmoid',gamma=1.0)\n",
    "knc = KNeighborsClassifier()\n",
    "mnb = MultinomialNB()\n",
    "dtc = DecisionTreeClassifier(max_depth=5)\n",
    "lrc = LogisticRegression(solver='liblinear',penalty='l1')\n",
    "rfc = RandomForestClassifier(n_estimators=50,random_state=2)\n",
    "abc = AdaBoostClassifier(n_estimators=50,random_state=2)\n",
    "bc = BaggingClassifier(n_estimators=50,random_state=2)\n",
    "etc = ExtraTreesClassifier(n_estimators=50,random_state=2)\n",
    "gbdt = GradientBoostingClassifier(n_estimators=50,random_state=2)\n",
    "xgb = XGBClassifier(n_estimators=50)\n"
   ]
  },
  {
   "cell_type": "code",
   "execution_count": 37,
   "metadata": {},
   "outputs": [],
   "source": [
    "# creating a dictionary of all the models\n",
    "clfs = {\n",
    "    \"SVC\": svc,\n",
    "    \"KN\": knc,\n",
    "    \"NB\": mnb,\n",
    "    \"DT\": dtc,\n",
    "    \"LR\": lrc,\n",
    "    # \"RF\": rfc,\n",
    "    \"AdaBoost\": abc,\n",
    "    \"BgC\": bc,\n",
    "    \"ETC\": etc,\n",
    "    \"GBDT\": gbdt,\n",
    "    \"xgb\": xgb,\n",
    "}\n"
   ]
  },
  {
   "cell_type": "code",
   "execution_count": 38,
   "metadata": {},
   "outputs": [],
   "source": [
    "def train_classifier(clf, X_train, y_train,X_test,y_test):    \n",
    "    clf.fit(X_train, y_train)\n",
    "    y_pred = clf.predict(X_test)\n",
    "    accuracy = accuracy_score(y_test, y_pred)\n",
    "\n",
    "    return accuracy"
   ]
  },
  {
   "cell_type": "code",
   "execution_count": 39,
   "metadata": {},
   "outputs": [],
   "source": [
    "# # checking with one algorithm\n",
    "# train_classifier(rfc,X_train,y_train,X_test,y_test) "
   ]
  },
  {
   "cell_type": "code",
   "execution_count": 40,
   "metadata": {},
   "outputs": [
    {
     "name": "stderr",
     "output_type": "stream",
     "text": [
      "C:\\Users\\Sulav Bhandari\\AppData\\Local\\Temp\\ipykernel_11976\\537262703.py:2: DataConversionWarning: A column-vector y was passed when a 1d array was expected. Please change the shape of y to (n_samples,), for example using ravel().\n",
      "  clf.fit(X_train, y_train)\n"
     ]
    },
    {
     "data": {
      "text/plain": [
       "0.9999019104384603"
      ]
     },
     "execution_count": 40,
     "metadata": {},
     "output_type": "execute_result"
    }
   ],
   "source": [
    "train_classifier(rfc,X_train,y_train,X_test,y_test)"
   ]
  },
  {
   "cell_type": "code",
   "execution_count": 41,
   "metadata": {},
   "outputs": [],
   "source": [
    "# convert the model_rfc to pickle file\n",
    "import pickle\n",
    "pickle.dump(rfc, open('model_type_final.pkl', 'wb'))"
   ]
  }
 ],
 "metadata": {
  "kernelspec": {
   "display_name": "mlcc",
   "language": "python",
   "name": "python3"
  },
  "language_info": {
   "codemirror_mode": {
    "name": "ipython",
    "version": 3
   },
   "file_extension": ".py",
   "mimetype": "text/x-python",
   "name": "python",
   "nbconvert_exporter": "python",
   "pygments_lexer": "ipython3",
   "version": "3.9.15"
  }
 },
 "nbformat": 4,
 "nbformat_minor": 2
}
